{
  "nbformat": 4,
  "nbformat_minor": 0,
  "metadata": {
    "colab": {
      "provenance": []
    },
    "kernelspec": {
      "name": "python3",
      "display_name": "Python 3"
    },
    "language_info": {
      "name": "python"
    }
  },
  "cells": [
    {
      "cell_type": "code",
      "execution_count": 2,
      "metadata": {
        "id": "mS-pKj4CLzlv"
      },
      "outputs": [],
      "source": [
        "#import necessary libraries\n",
        "import numpy as np\n",
        "import pandas as pd\n",
        "import matplotlib.pyplot as plt\n",
        "import seaborn as sb"
      ]
    },
    {
      "cell_type": "code",
      "source": [
        "from google.colab import drive # performed on google colab\n",
        "drive.mount('/content/drive')"
      ],
      "metadata": {
        "colab": {
          "base_uri": "https://localhost:8080/"
        },
        "id": "-2rQCXCtMBH-",
        "outputId": "571f8cee-73f3-41ab-856a-33e8e6aad203"
      },
      "execution_count": 3,
      "outputs": [
        {
          "output_type": "stream",
          "name": "stdout",
          "text": [
            "Mounted at /content/drive\n",
            "Drive already mounted at /content/drive; to attempt to forcibly remount, call drive.mount(\"/content/drive\", force_remount=True).\n"
          ]
        }
      ]
    },
    {
      "cell_type": "code",
      "source": [
        "#load csv file\n",
        "df=pd.read_csv('/content/drive/MyDrive/machine learning/cartrade.csv')"
      ],
      "metadata": {
        "id": "RJlCHeTXMEEI"
      },
      "execution_count": 4,
      "outputs": []
    },
    {
      "cell_type": "code",
      "source": [
        "df.head()"
      ],
      "metadata": {
        "colab": {
          "base_uri": "https://localhost:8080/",
          "height": 206
        },
        "id": "-L3MQCp6NUDd",
        "outputId": "c50aa06d-3bc4-4058-ced8-89df3951d6f0"
      },
      "execution_count": 5,
      "outputs": [
        {
          "output_type": "execute_result",
          "data": {
            "text/plain": [
              "           Brand    Model km_driven   Owner  Mfg_year Fuel_type Mileage  \\\n",
              "0        Hyundai    Creta    28,662   First      2020    Petrol   15.29   \n",
              "1          Skoda   Superb    34,463  Second      2017    Petrol   14.81   \n",
              "2            BMW       X1    64,300  Second      2016    Diesel     FWD   \n",
              "3  Mercedes-Benz  C-Class    57,750   First      2015    Petrol   14.74   \n",
              "4        Hyundai    Creta    71,000   First      2019    Diesel   17.01   \n",
              "\n",
              "  Transmission  Price(lakh)  \n",
              "0    Automatic        14.90  \n",
              "1    Automatic        15.95  \n",
              "2           BS        18.75  \n",
              "3    Automatic        23.85  \n",
              "4    Automatic        15.49  "
            ],
            "text/html": [
              "\n",
              "  <div id=\"df-4d1b01d0-34d2-4a7e-b4b3-5e62b3749e9e\">\n",
              "    <div class=\"colab-df-container\">\n",
              "      <div>\n",
              "<style scoped>\n",
              "    .dataframe tbody tr th:only-of-type {\n",
              "        vertical-align: middle;\n",
              "    }\n",
              "\n",
              "    .dataframe tbody tr th {\n",
              "        vertical-align: top;\n",
              "    }\n",
              "\n",
              "    .dataframe thead th {\n",
              "        text-align: right;\n",
              "    }\n",
              "</style>\n",
              "<table border=\"1\" class=\"dataframe\">\n",
              "  <thead>\n",
              "    <tr style=\"text-align: right;\">\n",
              "      <th></th>\n",
              "      <th>Brand</th>\n",
              "      <th>Model</th>\n",
              "      <th>km_driven</th>\n",
              "      <th>Owner</th>\n",
              "      <th>Mfg_year</th>\n",
              "      <th>Fuel_type</th>\n",
              "      <th>Mileage</th>\n",
              "      <th>Transmission</th>\n",
              "      <th>Price(lakh)</th>\n",
              "    </tr>\n",
              "  </thead>\n",
              "  <tbody>\n",
              "    <tr>\n",
              "      <th>0</th>\n",
              "      <td>Hyundai</td>\n",
              "      <td>Creta</td>\n",
              "      <td>28,662</td>\n",
              "      <td>First</td>\n",
              "      <td>2020</td>\n",
              "      <td>Petrol</td>\n",
              "      <td>15.29</td>\n",
              "      <td>Automatic</td>\n",
              "      <td>14.90</td>\n",
              "    </tr>\n",
              "    <tr>\n",
              "      <th>1</th>\n",
              "      <td>Skoda</td>\n",
              "      <td>Superb</td>\n",
              "      <td>34,463</td>\n",
              "      <td>Second</td>\n",
              "      <td>2017</td>\n",
              "      <td>Petrol</td>\n",
              "      <td>14.81</td>\n",
              "      <td>Automatic</td>\n",
              "      <td>15.95</td>\n",
              "    </tr>\n",
              "    <tr>\n",
              "      <th>2</th>\n",
              "      <td>BMW</td>\n",
              "      <td>X1</td>\n",
              "      <td>64,300</td>\n",
              "      <td>Second</td>\n",
              "      <td>2016</td>\n",
              "      <td>Diesel</td>\n",
              "      <td>FWD</td>\n",
              "      <td>BS</td>\n",
              "      <td>18.75</td>\n",
              "    </tr>\n",
              "    <tr>\n",
              "      <th>3</th>\n",
              "      <td>Mercedes-Benz</td>\n",
              "      <td>C-Class</td>\n",
              "      <td>57,750</td>\n",
              "      <td>First</td>\n",
              "      <td>2015</td>\n",
              "      <td>Petrol</td>\n",
              "      <td>14.74</td>\n",
              "      <td>Automatic</td>\n",
              "      <td>23.85</td>\n",
              "    </tr>\n",
              "    <tr>\n",
              "      <th>4</th>\n",
              "      <td>Hyundai</td>\n",
              "      <td>Creta</td>\n",
              "      <td>71,000</td>\n",
              "      <td>First</td>\n",
              "      <td>2019</td>\n",
              "      <td>Diesel</td>\n",
              "      <td>17.01</td>\n",
              "      <td>Automatic</td>\n",
              "      <td>15.49</td>\n",
              "    </tr>\n",
              "  </tbody>\n",
              "</table>\n",
              "</div>\n",
              "      <button class=\"colab-df-convert\" onclick=\"convertToInteractive('df-4d1b01d0-34d2-4a7e-b4b3-5e62b3749e9e')\"\n",
              "              title=\"Convert this dataframe to an interactive table.\"\n",
              "              style=\"display:none;\">\n",
              "        \n",
              "  <svg xmlns=\"http://www.w3.org/2000/svg\" height=\"24px\"viewBox=\"0 0 24 24\"\n",
              "       width=\"24px\">\n",
              "    <path d=\"M0 0h24v24H0V0z\" fill=\"none\"/>\n",
              "    <path d=\"M18.56 5.44l.94 2.06.94-2.06 2.06-.94-2.06-.94-.94-2.06-.94 2.06-2.06.94zm-11 1L8.5 8.5l.94-2.06 2.06-.94-2.06-.94L8.5 2.5l-.94 2.06-2.06.94zm10 10l.94 2.06.94-2.06 2.06-.94-2.06-.94-.94-2.06-.94 2.06-2.06.94z\"/><path d=\"M17.41 7.96l-1.37-1.37c-.4-.4-.92-.59-1.43-.59-.52 0-1.04.2-1.43.59L10.3 9.45l-7.72 7.72c-.78.78-.78 2.05 0 2.83L4 21.41c.39.39.9.59 1.41.59.51 0 1.02-.2 1.41-.59l7.78-7.78 2.81-2.81c.8-.78.8-2.07 0-2.86zM5.41 20L4 18.59l7.72-7.72 1.47 1.35L5.41 20z\"/>\n",
              "  </svg>\n",
              "      </button>\n",
              "      \n",
              "  <style>\n",
              "    .colab-df-container {\n",
              "      display:flex;\n",
              "      flex-wrap:wrap;\n",
              "      gap: 12px;\n",
              "    }\n",
              "\n",
              "    .colab-df-convert {\n",
              "      background-color: #E8F0FE;\n",
              "      border: none;\n",
              "      border-radius: 50%;\n",
              "      cursor: pointer;\n",
              "      display: none;\n",
              "      fill: #1967D2;\n",
              "      height: 32px;\n",
              "      padding: 0 0 0 0;\n",
              "      width: 32px;\n",
              "    }\n",
              "\n",
              "    .colab-df-convert:hover {\n",
              "      background-color: #E2EBFA;\n",
              "      box-shadow: 0px 1px 2px rgba(60, 64, 67, 0.3), 0px 1px 3px 1px rgba(60, 64, 67, 0.15);\n",
              "      fill: #174EA6;\n",
              "    }\n",
              "\n",
              "    [theme=dark] .colab-df-convert {\n",
              "      background-color: #3B4455;\n",
              "      fill: #D2E3FC;\n",
              "    }\n",
              "\n",
              "    [theme=dark] .colab-df-convert:hover {\n",
              "      background-color: #434B5C;\n",
              "      box-shadow: 0px 1px 3px 1px rgba(0, 0, 0, 0.15);\n",
              "      filter: drop-shadow(0px 1px 2px rgba(0, 0, 0, 0.3));\n",
              "      fill: #FFFFFF;\n",
              "    }\n",
              "  </style>\n",
              "\n",
              "      <script>\n",
              "        const buttonEl =\n",
              "          document.querySelector('#df-4d1b01d0-34d2-4a7e-b4b3-5e62b3749e9e button.colab-df-convert');\n",
              "        buttonEl.style.display =\n",
              "          google.colab.kernel.accessAllowed ? 'block' : 'none';\n",
              "\n",
              "        async function convertToInteractive(key) {\n",
              "          const element = document.querySelector('#df-4d1b01d0-34d2-4a7e-b4b3-5e62b3749e9e');\n",
              "          const dataTable =\n",
              "            await google.colab.kernel.invokeFunction('convertToInteractive',\n",
              "                                                     [key], {});\n",
              "          if (!dataTable) return;\n",
              "\n",
              "          const docLinkHtml = 'Like what you see? Visit the ' +\n",
              "            '<a target=\"_blank\" href=https://colab.research.google.com/notebooks/data_table.ipynb>data table notebook</a>'\n",
              "            + ' to learn more about interactive tables.';\n",
              "          element.innerHTML = '';\n",
              "          dataTable['output_type'] = 'display_data';\n",
              "          await google.colab.output.renderOutput(dataTable, element);\n",
              "          const docLink = document.createElement('div');\n",
              "          docLink.innerHTML = docLinkHtml;\n",
              "          element.appendChild(docLink);\n",
              "        }\n",
              "      </script>\n",
              "    </div>\n",
              "  </div>\n",
              "  "
            ]
          },
          "metadata": {},
          "execution_count": 5
        }
      ]
    },
    {
      "cell_type": "markdown",
      "source": [
        "Step 1 : Handeling null vales"
      ],
      "metadata": {
        "id": "RWWUv9EEvh_X"
      }
    },
    {
      "cell_type": "code",
      "source": [
        "# checking for null values\n",
        "df.isnull().sum()"
      ],
      "metadata": {
        "colab": {
          "base_uri": "https://localhost:8080/"
        },
        "id": "u-DqZfiMNZLL",
        "outputId": "25cbadd5-cb83-43b6-f170-d2ea05e3aaa7"
      },
      "execution_count": 6,
      "outputs": [
        {
          "output_type": "execute_result",
          "data": {
            "text/plain": [
              "Brand           0\n",
              "Model           0\n",
              "km_driven       0\n",
              "Owner           0\n",
              "Mfg_year        0\n",
              "Fuel_type       0\n",
              "Mileage         0\n",
              "Transmission    0\n",
              "Price(lakh)     0\n",
              "dtype: int64"
            ]
          },
          "metadata": {},
          "execution_count": 6
        }
      ]
    },
    {
      "cell_type": "markdown",
      "source": [
        "  Step 2: Handeling duplicate values"
      ],
      "metadata": {
        "id": "KVSucjrsv8qo"
      }
    },
    {
      "cell_type": "code",
      "source": [
        "#checking for duplicated value\n",
        "df.duplicated().sum()"
      ],
      "metadata": {
        "colab": {
          "base_uri": "https://localhost:8080/"
        },
        "id": "UbkSOU1YPG7j",
        "outputId": "8f3662f4-1835-45ec-82b3-c7c650f1f32b"
      },
      "execution_count": 7,
      "outputs": [
        {
          "output_type": "execute_result",
          "data": {
            "text/plain": [
              "229"
            ]
          },
          "metadata": {},
          "execution_count": 7
        }
      ]
    },
    {
      "cell_type": "code",
      "source": [
        "#drop duplicate values\n",
        "df.drop_duplicates()"
      ],
      "metadata": {
        "colab": {
          "base_uri": "https://localhost:8080/",
          "height": 424
        },
        "id": "UW8CbQ0zPNBK",
        "outputId": "ddad2d2b-a0f0-4ef1-bcd8-d3c793b45feb"
      },
      "execution_count": 8,
      "outputs": [
        {
          "output_type": "execute_result",
          "data": {
            "text/plain": [
              "              Brand    Model km_driven   Owner  Mfg_year Fuel_type Mileage  \\\n",
              "0           Hyundai    Creta    28,662   First      2020    Petrol   15.29   \n",
              "1             Skoda   Superb    34,463  Second      2017    Petrol   14.81   \n",
              "2               BMW       X1    64,300  Second      2016    Diesel     FWD   \n",
              "3     Mercedes-Benz  C-Class    57,750   First      2015    Petrol   14.74   \n",
              "4           Hyundai    Creta    71,000   First      2019    Diesel   17.01   \n",
              "...             ...      ...       ...     ...       ...       ...     ...   \n",
              "1005        Hyundai    Elite    60,902  Second      2017    Petrol     FWD   \n",
              "1006         Maruti   Suzuki    45,169   First      2019    Petrol   22.74   \n",
              "1007         Maruti   Suzuki    43,149   First      2013    Petrol      15   \n",
              "1008         Maruti   Suzuki    18,099  Second      2018    Petrol    23.1   \n",
              "1009         Maruti   Suzuki    33,166   First      2013    Petrol    19.1   \n",
              "\n",
              "     Transmission  Price(lakh)  \n",
              "0       Automatic        14.90  \n",
              "1       Automatic        15.95  \n",
              "2              BS        18.75  \n",
              "3       Automatic        23.85  \n",
              "4       Automatic        15.49  \n",
              "...           ...          ...  \n",
              "1005           No         6.90  \n",
              "1006       Manual         3.69  \n",
              "1007         3539         2.83  \n",
              "1008          AMT         4.83  \n",
              "1009       Manual         4.49  \n",
              "\n",
              "[781 rows x 9 columns]"
            ],
            "text/html": [
              "\n",
              "  <div id=\"df-914d29d2-8972-4f47-9007-0e2db3aa145d\">\n",
              "    <div class=\"colab-df-container\">\n",
              "      <div>\n",
              "<style scoped>\n",
              "    .dataframe tbody tr th:only-of-type {\n",
              "        vertical-align: middle;\n",
              "    }\n",
              "\n",
              "    .dataframe tbody tr th {\n",
              "        vertical-align: top;\n",
              "    }\n",
              "\n",
              "    .dataframe thead th {\n",
              "        text-align: right;\n",
              "    }\n",
              "</style>\n",
              "<table border=\"1\" class=\"dataframe\">\n",
              "  <thead>\n",
              "    <tr style=\"text-align: right;\">\n",
              "      <th></th>\n",
              "      <th>Brand</th>\n",
              "      <th>Model</th>\n",
              "      <th>km_driven</th>\n",
              "      <th>Owner</th>\n",
              "      <th>Mfg_year</th>\n",
              "      <th>Fuel_type</th>\n",
              "      <th>Mileage</th>\n",
              "      <th>Transmission</th>\n",
              "      <th>Price(lakh)</th>\n",
              "    </tr>\n",
              "  </thead>\n",
              "  <tbody>\n",
              "    <tr>\n",
              "      <th>0</th>\n",
              "      <td>Hyundai</td>\n",
              "      <td>Creta</td>\n",
              "      <td>28,662</td>\n",
              "      <td>First</td>\n",
              "      <td>2020</td>\n",
              "      <td>Petrol</td>\n",
              "      <td>15.29</td>\n",
              "      <td>Automatic</td>\n",
              "      <td>14.90</td>\n",
              "    </tr>\n",
              "    <tr>\n",
              "      <th>1</th>\n",
              "      <td>Skoda</td>\n",
              "      <td>Superb</td>\n",
              "      <td>34,463</td>\n",
              "      <td>Second</td>\n",
              "      <td>2017</td>\n",
              "      <td>Petrol</td>\n",
              "      <td>14.81</td>\n",
              "      <td>Automatic</td>\n",
              "      <td>15.95</td>\n",
              "    </tr>\n",
              "    <tr>\n",
              "      <th>2</th>\n",
              "      <td>BMW</td>\n",
              "      <td>X1</td>\n",
              "      <td>64,300</td>\n",
              "      <td>Second</td>\n",
              "      <td>2016</td>\n",
              "      <td>Diesel</td>\n",
              "      <td>FWD</td>\n",
              "      <td>BS</td>\n",
              "      <td>18.75</td>\n",
              "    </tr>\n",
              "    <tr>\n",
              "      <th>3</th>\n",
              "      <td>Mercedes-Benz</td>\n",
              "      <td>C-Class</td>\n",
              "      <td>57,750</td>\n",
              "      <td>First</td>\n",
              "      <td>2015</td>\n",
              "      <td>Petrol</td>\n",
              "      <td>14.74</td>\n",
              "      <td>Automatic</td>\n",
              "      <td>23.85</td>\n",
              "    </tr>\n",
              "    <tr>\n",
              "      <th>4</th>\n",
              "      <td>Hyundai</td>\n",
              "      <td>Creta</td>\n",
              "      <td>71,000</td>\n",
              "      <td>First</td>\n",
              "      <td>2019</td>\n",
              "      <td>Diesel</td>\n",
              "      <td>17.01</td>\n",
              "      <td>Automatic</td>\n",
              "      <td>15.49</td>\n",
              "    </tr>\n",
              "    <tr>\n",
              "      <th>...</th>\n",
              "      <td>...</td>\n",
              "      <td>...</td>\n",
              "      <td>...</td>\n",
              "      <td>...</td>\n",
              "      <td>...</td>\n",
              "      <td>...</td>\n",
              "      <td>...</td>\n",
              "      <td>...</td>\n",
              "      <td>...</td>\n",
              "    </tr>\n",
              "    <tr>\n",
              "      <th>1005</th>\n",
              "      <td>Hyundai</td>\n",
              "      <td>Elite</td>\n",
              "      <td>60,902</td>\n",
              "      <td>Second</td>\n",
              "      <td>2017</td>\n",
              "      <td>Petrol</td>\n",
              "      <td>FWD</td>\n",
              "      <td>No</td>\n",
              "      <td>6.90</td>\n",
              "    </tr>\n",
              "    <tr>\n",
              "      <th>1006</th>\n",
              "      <td>Maruti</td>\n",
              "      <td>Suzuki</td>\n",
              "      <td>45,169</td>\n",
              "      <td>First</td>\n",
              "      <td>2019</td>\n",
              "      <td>Petrol</td>\n",
              "      <td>22.74</td>\n",
              "      <td>Manual</td>\n",
              "      <td>3.69</td>\n",
              "    </tr>\n",
              "    <tr>\n",
              "      <th>1007</th>\n",
              "      <td>Maruti</td>\n",
              "      <td>Suzuki</td>\n",
              "      <td>43,149</td>\n",
              "      <td>First</td>\n",
              "      <td>2013</td>\n",
              "      <td>Petrol</td>\n",
              "      <td>15</td>\n",
              "      <td>3539</td>\n",
              "      <td>2.83</td>\n",
              "    </tr>\n",
              "    <tr>\n",
              "      <th>1008</th>\n",
              "      <td>Maruti</td>\n",
              "      <td>Suzuki</td>\n",
              "      <td>18,099</td>\n",
              "      <td>Second</td>\n",
              "      <td>2018</td>\n",
              "      <td>Petrol</td>\n",
              "      <td>23.1</td>\n",
              "      <td>AMT</td>\n",
              "      <td>4.83</td>\n",
              "    </tr>\n",
              "    <tr>\n",
              "      <th>1009</th>\n",
              "      <td>Maruti</td>\n",
              "      <td>Suzuki</td>\n",
              "      <td>33,166</td>\n",
              "      <td>First</td>\n",
              "      <td>2013</td>\n",
              "      <td>Petrol</td>\n",
              "      <td>19.1</td>\n",
              "      <td>Manual</td>\n",
              "      <td>4.49</td>\n",
              "    </tr>\n",
              "  </tbody>\n",
              "</table>\n",
              "<p>781 rows × 9 columns</p>\n",
              "</div>\n",
              "      <button class=\"colab-df-convert\" onclick=\"convertToInteractive('df-914d29d2-8972-4f47-9007-0e2db3aa145d')\"\n",
              "              title=\"Convert this dataframe to an interactive table.\"\n",
              "              style=\"display:none;\">\n",
              "        \n",
              "  <svg xmlns=\"http://www.w3.org/2000/svg\" height=\"24px\"viewBox=\"0 0 24 24\"\n",
              "       width=\"24px\">\n",
              "    <path d=\"M0 0h24v24H0V0z\" fill=\"none\"/>\n",
              "    <path d=\"M18.56 5.44l.94 2.06.94-2.06 2.06-.94-2.06-.94-.94-2.06-.94 2.06-2.06.94zm-11 1L8.5 8.5l.94-2.06 2.06-.94-2.06-.94L8.5 2.5l-.94 2.06-2.06.94zm10 10l.94 2.06.94-2.06 2.06-.94-2.06-.94-.94-2.06-.94 2.06-2.06.94z\"/><path d=\"M17.41 7.96l-1.37-1.37c-.4-.4-.92-.59-1.43-.59-.52 0-1.04.2-1.43.59L10.3 9.45l-7.72 7.72c-.78.78-.78 2.05 0 2.83L4 21.41c.39.39.9.59 1.41.59.51 0 1.02-.2 1.41-.59l7.78-7.78 2.81-2.81c.8-.78.8-2.07 0-2.86zM5.41 20L4 18.59l7.72-7.72 1.47 1.35L5.41 20z\"/>\n",
              "  </svg>\n",
              "      </button>\n",
              "      \n",
              "  <style>\n",
              "    .colab-df-container {\n",
              "      display:flex;\n",
              "      flex-wrap:wrap;\n",
              "      gap: 12px;\n",
              "    }\n",
              "\n",
              "    .colab-df-convert {\n",
              "      background-color: #E8F0FE;\n",
              "      border: none;\n",
              "      border-radius: 50%;\n",
              "      cursor: pointer;\n",
              "      display: none;\n",
              "      fill: #1967D2;\n",
              "      height: 32px;\n",
              "      padding: 0 0 0 0;\n",
              "      width: 32px;\n",
              "    }\n",
              "\n",
              "    .colab-df-convert:hover {\n",
              "      background-color: #E2EBFA;\n",
              "      box-shadow: 0px 1px 2px rgba(60, 64, 67, 0.3), 0px 1px 3px 1px rgba(60, 64, 67, 0.15);\n",
              "      fill: #174EA6;\n",
              "    }\n",
              "\n",
              "    [theme=dark] .colab-df-convert {\n",
              "      background-color: #3B4455;\n",
              "      fill: #D2E3FC;\n",
              "    }\n",
              "\n",
              "    [theme=dark] .colab-df-convert:hover {\n",
              "      background-color: #434B5C;\n",
              "      box-shadow: 0px 1px 3px 1px rgba(0, 0, 0, 0.15);\n",
              "      filter: drop-shadow(0px 1px 2px rgba(0, 0, 0, 0.3));\n",
              "      fill: #FFFFFF;\n",
              "    }\n",
              "  </style>\n",
              "\n",
              "      <script>\n",
              "        const buttonEl =\n",
              "          document.querySelector('#df-914d29d2-8972-4f47-9007-0e2db3aa145d button.colab-df-convert');\n",
              "        buttonEl.style.display =\n",
              "          google.colab.kernel.accessAllowed ? 'block' : 'none';\n",
              "\n",
              "        async function convertToInteractive(key) {\n",
              "          const element = document.querySelector('#df-914d29d2-8972-4f47-9007-0e2db3aa145d');\n",
              "          const dataTable =\n",
              "            await google.colab.kernel.invokeFunction('convertToInteractive',\n",
              "                                                     [key], {});\n",
              "          if (!dataTable) return;\n",
              "\n",
              "          const docLinkHtml = 'Like what you see? Visit the ' +\n",
              "            '<a target=\"_blank\" href=https://colab.research.google.com/notebooks/data_table.ipynb>data table notebook</a>'\n",
              "            + ' to learn more about interactive tables.';\n",
              "          element.innerHTML = '';\n",
              "          dataTable['output_type'] = 'display_data';\n",
              "          await google.colab.output.renderOutput(dataTable, element);\n",
              "          const docLink = document.createElement('div');\n",
              "          docLink.innerHTML = docLinkHtml;\n",
              "          element.appendChild(docLink);\n",
              "        }\n",
              "      </script>\n",
              "    </div>\n",
              "  </div>\n",
              "  "
            ]
          },
          "metadata": {},
          "execution_count": 8
        }
      ]
    },
    {
      "cell_type": "markdown",
      "source": [
        "Step 3: Varifying datatypes"
      ],
      "metadata": {
        "id": "mRP9lKcqwKag"
      }
    },
    {
      "cell_type": "code",
      "source": [
        "#checking data types of all column\n",
        "df.dtypes"
      ],
      "metadata": {
        "colab": {
          "base_uri": "https://localhost:8080/"
        },
        "id": "N81X4NM8Ppby",
        "outputId": "14762968-947c-4e97-b060-9214e9500e09"
      },
      "execution_count": 9,
      "outputs": [
        {
          "output_type": "execute_result",
          "data": {
            "text/plain": [
              "Brand            object\n",
              "Model            object\n",
              "km_driven        object\n",
              "Owner            object\n",
              "Mfg_year          int64\n",
              "Fuel_type        object\n",
              "Mileage          object\n",
              "Transmission     object\n",
              "Price(lakh)     float64\n",
              "dtype: object"
            ]
          },
          "metadata": {},
          "execution_count": 9
        }
      ]
    },
    {
      "cell_type": "code",
      "source": [
        "# columns like km_driven,mileage should be integer type but they are object type in this dataset\n",
        "#we need to check why this columns are object type"
      ],
      "metadata": {
        "id": "DQDehteKP14K"
      },
      "execution_count": 10,
      "outputs": []
    },
    {
      "cell_type": "code",
      "source": [
        "df['km_driven']=[float(str(i).replace(\",\", \"\")) for i in df[\"km_driven\"]]"
      ],
      "metadata": {
        "id": "evNNutiIQdth"
      },
      "execution_count": 11,
      "outputs": []
    },
    {
      "cell_type": "code",
      "source": [
        "df['km_driven'].dtype"
      ],
      "metadata": {
        "id": "_mewcHvWRfd5",
        "colab": {
          "base_uri": "https://localhost:8080/"
        },
        "outputId": "992d572e-8e89-48d8-e8cc-277c0388aa6e"
      },
      "execution_count": 12,
      "outputs": [
        {
          "output_type": "execute_result",
          "data": {
            "text/plain": [
              "dtype('float64')"
            ]
          },
          "metadata": {},
          "execution_count": 12
        }
      ]
    },
    {
      "cell_type": "code",
      "source": [
        "df['Mileage'].unique()"
      ],
      "metadata": {
        "colab": {
          "base_uri": "https://localhost:8080/"
        },
        "id": "w7AMpm5GlHY8",
        "outputId": "0b1688bb-e408-4b97-fd0e-c4c0d0741d87"
      },
      "execution_count": 13,
      "outputs": [
        {
          "output_type": "execute_result",
          "data": {
            "text/plain": [
              "array(['15.29', '14.81', 'FWD', '14.74', '17.01', '18.7', '23.1', '22.15',\n",
              "       '18.12', '17.4', '350', 'Manual', '16.8', '19.4', '17', '21.4',\n",
              "       '20.4', '19.16', '20', '15.1', '14.29', '20.5', '24.29', '22.69',\n",
              "       '11.4', '15.23', '15.96', '15.5', '19.1', '16.7', '18.6', '19.01',\n",
              "       '22', '58', '15.04', '18.15', '17.5', '18.5', '17.97', '16',\n",
              "       '22.5', '20.729999542236328', '19.12', '28.09', '24.2', '17.88',\n",
              "       '19.77', '19.8', '18.9', '17.19', '16.2', '16.47', '20.73',\n",
              "       '16.95', '23', '18.19', '12.9', '19', '19.3', '13.1', '16.96',\n",
              "       '10.91', '2791', '14.7', '16.3', '17.2', '15.56', 'Automatic',\n",
              "       '12.06', '13.9', '13.85', '4WD', '15.77', '14.6', 'AWD', '20.45',\n",
              "       '15.97', '17.57', '22.74', 'RWD', '14.69', '335', '16.65', '241',\n",
              "       '8.2', '18.48', '14.2', '11.33', '23.65', '20.63', '10.37',\n",
              "       '14.59', '22.54', '194', '188', '16.5', '21.38', '17.99', '18.88',\n",
              "       '14.75', '20.52', '15.6', '17.1', '17.41', '13.7', '16.55',\n",
              "       '16.66', '13.06', '250', '18', '24.04', '20.51', '15.26', '17.8',\n",
              "       '14.8', '349', '12.62', '18.2', '8.96', '10.87', '16.77', '11.1',\n",
              "       '7.9', '16.02', '19.5', '18.1', '201', '13.53', '19.27', '21.45',\n",
              "       '15.8', '12', '32.26', '21.21', '34', '21.76', '90', '17.11',\n",
              "       '20.3', '429', '17.42', '21.56', '23.01', '22.48', '15.17',\n",
              "       '13.32', '23.97', '262', '24.59', '20.2', '15', '18.4', '14.63',\n",
              "       '127', '4.8', '16.81', '10.75', '12.8', '14.3', '12.37', '16.05',\n",
              "       '18.78', '11.9', '25', '18.18', '13.96', '16.1', '22.8', '30.48',\n",
              "       '21.7', '14.84', '14.83', '18.49', '17.21', '500', '27.62', '28.4',\n",
              "       '17.3', '24.1', '220', '17.24', '27.39', '16.09', '31.79', '320',\n",
              "       '12.07', '18.56', '22.9', '20.06', '178', '13.28', '12.4', '22.27',\n",
              "       '13.05', '21', '31.5', '18.76', '20.89', '24.95'], dtype=object)"
            ]
          },
          "metadata": {},
          "execution_count": 13
        }
      ]
    },
    {
      "cell_type": "code",
      "source": [
        "#column contains string \n",
        "#need to remove those strings\n",
        "#Replace string with null values"
      ],
      "metadata": {
        "id": "zADiE0CvlgA_"
      },
      "execution_count": 14,
      "outputs": []
    },
    {
      "cell_type": "code",
      "source": [
        "df['Mileage'].replace('FWD',np.nan,inplace=True)"
      ],
      "metadata": {
        "id": "JVBLWDpklgEH"
      },
      "execution_count": 15,
      "outputs": []
    },
    {
      "cell_type": "code",
      "source": [
        "df['Mileage'].replace('Manual',np.nan,inplace=True)"
      ],
      "metadata": {
        "id": "KKZHjwMklgGu"
      },
      "execution_count": 16,
      "outputs": []
    },
    {
      "cell_type": "code",
      "source": [
        "df['Mileage'].replace('Automatic',np.nan,inplace=True)"
      ],
      "metadata": {
        "id": "2nKrxWn6lgJl"
      },
      "execution_count": 17,
      "outputs": []
    },
    {
      "cell_type": "code",
      "source": [
        "df['Mileage'].replace('4WD',np.nan,inplace=True)"
      ],
      "metadata": {
        "id": "UPySbdaklgMv"
      },
      "execution_count": 18,
      "outputs": []
    },
    {
      "cell_type": "code",
      "source": [
        "df['Mileage'].replace('RWD',np.nan,inplace=True)"
      ],
      "metadata": {
        "id": "QoeWTyxHlgPm"
      },
      "execution_count": 19,
      "outputs": []
    },
    {
      "cell_type": "code",
      "source": [
        "df['Mileage'].replace('AWD',np.nan,inplace=True)"
      ],
      "metadata": {
        "id": "1U-gutjInF99"
      },
      "execution_count": 20,
      "outputs": []
    },
    {
      "cell_type": "code",
      "source": [
        "df['Mileage']=df['Mileage'].astype('float')"
      ],
      "metadata": {
        "id": "F5a0JimFlgSO"
      },
      "execution_count": 21,
      "outputs": []
    },
    {
      "cell_type": "code",
      "source": [
        "\n",
        "#fill nul value with mean of that column\n",
        "m=df['Mileage'].mean()\n",
        "m"
      ],
      "metadata": {
        "colab": {
          "base_uri": "https://localhost:8080/"
        },
        "id": "AEaA6HxYm4m7",
        "outputId": "85124c59-03e3-4bdf-e787-11697f50b2e2"
      },
      "execution_count": 22,
      "outputs": [
        {
          "output_type": "execute_result",
          "data": {
            "text/plain": [
              "43.98152541835741"
            ]
          },
          "metadata": {},
          "execution_count": 22
        }
      ]
    },
    {
      "cell_type": "code",
      "source": [
        "df['Mileage'].fillna(m,inplace=True)"
      ],
      "metadata": {
        "id": "IzWDUJiLnrPy"
      },
      "execution_count": 23,
      "outputs": []
    },
    {
      "cell_type": "code",
      "source": [
        "#cross chack\n",
        "df.isnull().sum()"
      ],
      "metadata": {
        "colab": {
          "base_uri": "https://localhost:8080/"
        },
        "id": "03f2iwEmn_By",
        "outputId": "88ff0322-2db9-4e8b-a249-e8637e7f4c2b"
      },
      "execution_count": 24,
      "outputs": [
        {
          "output_type": "execute_result",
          "data": {
            "text/plain": [
              "Brand           0\n",
              "Model           0\n",
              "km_driven       0\n",
              "Owner           0\n",
              "Mfg_year        0\n",
              "Fuel_type       0\n",
              "Mileage         0\n",
              "Transmission    0\n",
              "Price(lakh)     0\n",
              "dtype: int64"
            ]
          },
          "metadata": {},
          "execution_count": 24
        }
      ]
    },
    {
      "cell_type": "code",
      "source": [
        "df.dtypes"
      ],
      "metadata": {
        "colab": {
          "base_uri": "https://localhost:8080/"
        },
        "id": "Vg_LIoBVoDXq",
        "outputId": "2d0524db-fea4-4fb7-bca3-ea22c422677f"
      },
      "execution_count": 25,
      "outputs": [
        {
          "output_type": "execute_result",
          "data": {
            "text/plain": [
              "Brand            object\n",
              "Model            object\n",
              "km_driven       float64\n",
              "Owner            object\n",
              "Mfg_year          int64\n",
              "Fuel_type        object\n",
              "Mileage         float64\n",
              "Transmission     object\n",
              "Price(lakh)     float64\n",
              "dtype: object"
            ]
          },
          "metadata": {},
          "execution_count": 25
        }
      ]
    },
    {
      "cell_type": "code",
      "source": [
        "df['Transmission'].unique()"
      ],
      "metadata": {
        "colab": {
          "base_uri": "https://localhost:8080/"
        },
        "id": "TY18sDAczPRC",
        "outputId": "157898b1-9ded-4d5d-b9f0-b235f2b23b23"
      },
      "execution_count": 26,
      "outputs": [
        {
          "output_type": "execute_result",
          "data": {
            "text/plain": [
              "array(['Automatic', 'BS', 'Manual', '704', '1475', 'No', 'FWD',\n",
              "       'Turbocharged', '4555', 'AMT', '1826', '3821', '807', 'Idle',\n",
              "       '9.8', '1799', '14', 'AWD', '4879', '12.8', '15.3', '4886', '905',\n",
              "       '4370', '10.6', '4WD', '4797', '5295', '20.3', 'Yes', 'RWD', '585',\n",
              "       '22', '18.64', '17.6', '4431', '4838', '13.3', '1152', '3539',\n",
              "       '791', '3775', '861', '1920', '4386'], dtype=object)"
            ]
          },
          "metadata": {},
          "execution_count": 26
        }
      ]
    },
    {
      "cell_type": "code",
      "source": [
        "#Transmission column contain items that are not type of transmission\n",
        "#need to remove those values"
      ],
      "metadata": {
        "id": "q6tTo10B9xsX"
      },
      "execution_count": 27,
      "outputs": []
    },
    {
      "cell_type": "code",
      "source": [
        "x=df[df['Transmission'] != 'Automatic']"
      ],
      "metadata": {
        "id": "c3bIOqodzPO2"
      },
      "execution_count": 28,
      "outputs": []
    },
    {
      "cell_type": "code",
      "source": [
        "y=x[x['Transmission']!='Manual'].index\n",
        "y"
      ],
      "metadata": {
        "colab": {
          "base_uri": "https://localhost:8080/"
        },
        "id": "DVOViBK6zPMi",
        "outputId": "ad076c89-8309-405d-c64d-b05d99e83e65"
      },
      "execution_count": 29,
      "outputs": [
        {
          "output_type": "execute_result",
          "data": {
            "text/plain": [
              "Int64Index([   2,   12,   13,   14,   17,   18,   20,   21,   22,   23,\n",
              "            ...\n",
              "             981,  984,  986,  989,  992,  999, 1004, 1005, 1007, 1008],\n",
              "           dtype='int64', length=411)"
            ]
          },
          "metadata": {},
          "execution_count": 29
        }
      ]
    },
    {
      "cell_type": "code",
      "source": [
        "#drop unwanted values from column\n",
        "df['Transmission']=df['Transmission'].drop(y)"
      ],
      "metadata": {
        "id": "g0njaKRdzPJd"
      },
      "execution_count": 30,
      "outputs": []
    },
    {
      "cell_type": "code",
      "source": [
        "df['Transmission'].unique()"
      ],
      "metadata": {
        "colab": {
          "base_uri": "https://localhost:8080/"
        },
        "id": "ycPmydJAzPG0",
        "outputId": "0ab20bd1-4186-4524-9bfa-b840e9cceeb0"
      },
      "execution_count": 31,
      "outputs": [
        {
          "output_type": "execute_result",
          "data": {
            "text/plain": [
              "array(['Automatic', nan, 'Manual'], dtype=object)"
            ]
          },
          "metadata": {},
          "execution_count": 31
        }
      ]
    },
    {
      "cell_type": "code",
      "source": [
        "m=df['Transmission'].mode()\n",
        "m"
      ],
      "metadata": {
        "colab": {
          "base_uri": "https://localhost:8080/"
        },
        "id": "UBgevgdv9vcy",
        "outputId": "31bf03fd-d005-43d7-d479-3021c0e171c8"
      },
      "execution_count": 32,
      "outputs": [
        {
          "output_type": "execute_result",
          "data": {
            "text/plain": [
              "0    Automatic\n",
              "dtype: object"
            ]
          },
          "metadata": {},
          "execution_count": 32
        }
      ]
    },
    {
      "cell_type": "code",
      "source": [
        "\n",
        "#fill null values with mode of that column\n",
        "df['Transmission'].fillna('Automatic',inplace=True)"
      ],
      "metadata": {
        "id": "TU-ljnHHzPEE"
      },
      "execution_count": 33,
      "outputs": []
    },
    {
      "cell_type": "code",
      "source": [
        "df['Transmission'].isnull().sum()"
      ],
      "metadata": {
        "colab": {
          "base_uri": "https://localhost:8080/"
        },
        "id": "9GSfIF-QzPBr",
        "outputId": "c60f4072-3975-441c-9f93-ce1659d8cbfc"
      },
      "execution_count": 34,
      "outputs": [
        {
          "output_type": "execute_result",
          "data": {
            "text/plain": [
              "0"
            ]
          },
          "metadata": {},
          "execution_count": 34
        }
      ]
    },
    {
      "cell_type": "code",
      "source": [
        "# checking for duplicated values\n",
        "df.duplicated().sum()"
      ],
      "metadata": {
        "id": "t7ATS8C2zO86",
        "colab": {
          "base_uri": "https://localhost:8080/"
        },
        "outputId": "e2c65525-8eb1-432d-9ae0-913cf90736fa"
      },
      "execution_count": 35,
      "outputs": [
        {
          "output_type": "execute_result",
          "data": {
            "text/plain": [
              "229"
            ]
          },
          "metadata": {},
          "execution_count": 35
        }
      ]
    },
    {
      "cell_type": "code",
      "source": [
        "# drop duplicated values\n",
        "df.drop_duplicates()"
      ],
      "metadata": {
        "colab": {
          "base_uri": "https://localhost:8080/",
          "height": 424
        },
        "id": "d6SbTbqr--rP",
        "outputId": "635e7ea6-aa1e-4b59-a7d3-a169800f9e5f"
      },
      "execution_count": 36,
      "outputs": [
        {
          "output_type": "execute_result",
          "data": {
            "text/plain": [
              "              Brand    Model  km_driven   Owner  Mfg_year Fuel_type  \\\n",
              "0           Hyundai    Creta    28662.0   First      2020    Petrol   \n",
              "1             Skoda   Superb    34463.0  Second      2017    Petrol   \n",
              "2               BMW       X1    64300.0  Second      2016    Diesel   \n",
              "3     Mercedes-Benz  C-Class    57750.0   First      2015    Petrol   \n",
              "4           Hyundai    Creta    71000.0   First      2019    Diesel   \n",
              "...             ...      ...        ...     ...       ...       ...   \n",
              "1005        Hyundai    Elite    60902.0  Second      2017    Petrol   \n",
              "1006         Maruti   Suzuki    45169.0   First      2019    Petrol   \n",
              "1007         Maruti   Suzuki    43149.0   First      2013    Petrol   \n",
              "1008         Maruti   Suzuki    18099.0  Second      2018    Petrol   \n",
              "1009         Maruti   Suzuki    33166.0   First      2013    Petrol   \n",
              "\n",
              "        Mileage Transmission  Price(lakh)  \n",
              "0     15.290000    Automatic        14.90  \n",
              "1     14.810000    Automatic        15.95  \n",
              "2     43.981525    Automatic        18.75  \n",
              "3     14.740000    Automatic        23.85  \n",
              "4     17.010000    Automatic        15.49  \n",
              "...         ...          ...          ...  \n",
              "1005  43.981525    Automatic         6.90  \n",
              "1006  22.740000       Manual         3.69  \n",
              "1007  15.000000    Automatic         2.83  \n",
              "1008  23.100000    Automatic         4.83  \n",
              "1009  19.100000       Manual         4.49  \n",
              "\n",
              "[781 rows x 9 columns]"
            ],
            "text/html": [
              "\n",
              "  <div id=\"df-50f0f3ca-d00c-4782-80b6-2d37e8d0a1db\">\n",
              "    <div class=\"colab-df-container\">\n",
              "      <div>\n",
              "<style scoped>\n",
              "    .dataframe tbody tr th:only-of-type {\n",
              "        vertical-align: middle;\n",
              "    }\n",
              "\n",
              "    .dataframe tbody tr th {\n",
              "        vertical-align: top;\n",
              "    }\n",
              "\n",
              "    .dataframe thead th {\n",
              "        text-align: right;\n",
              "    }\n",
              "</style>\n",
              "<table border=\"1\" class=\"dataframe\">\n",
              "  <thead>\n",
              "    <tr style=\"text-align: right;\">\n",
              "      <th></th>\n",
              "      <th>Brand</th>\n",
              "      <th>Model</th>\n",
              "      <th>km_driven</th>\n",
              "      <th>Owner</th>\n",
              "      <th>Mfg_year</th>\n",
              "      <th>Fuel_type</th>\n",
              "      <th>Mileage</th>\n",
              "      <th>Transmission</th>\n",
              "      <th>Price(lakh)</th>\n",
              "    </tr>\n",
              "  </thead>\n",
              "  <tbody>\n",
              "    <tr>\n",
              "      <th>0</th>\n",
              "      <td>Hyundai</td>\n",
              "      <td>Creta</td>\n",
              "      <td>28662.0</td>\n",
              "      <td>First</td>\n",
              "      <td>2020</td>\n",
              "      <td>Petrol</td>\n",
              "      <td>15.290000</td>\n",
              "      <td>Automatic</td>\n",
              "      <td>14.90</td>\n",
              "    </tr>\n",
              "    <tr>\n",
              "      <th>1</th>\n",
              "      <td>Skoda</td>\n",
              "      <td>Superb</td>\n",
              "      <td>34463.0</td>\n",
              "      <td>Second</td>\n",
              "      <td>2017</td>\n",
              "      <td>Petrol</td>\n",
              "      <td>14.810000</td>\n",
              "      <td>Automatic</td>\n",
              "      <td>15.95</td>\n",
              "    </tr>\n",
              "    <tr>\n",
              "      <th>2</th>\n",
              "      <td>BMW</td>\n",
              "      <td>X1</td>\n",
              "      <td>64300.0</td>\n",
              "      <td>Second</td>\n",
              "      <td>2016</td>\n",
              "      <td>Diesel</td>\n",
              "      <td>43.981525</td>\n",
              "      <td>Automatic</td>\n",
              "      <td>18.75</td>\n",
              "    </tr>\n",
              "    <tr>\n",
              "      <th>3</th>\n",
              "      <td>Mercedes-Benz</td>\n",
              "      <td>C-Class</td>\n",
              "      <td>57750.0</td>\n",
              "      <td>First</td>\n",
              "      <td>2015</td>\n",
              "      <td>Petrol</td>\n",
              "      <td>14.740000</td>\n",
              "      <td>Automatic</td>\n",
              "      <td>23.85</td>\n",
              "    </tr>\n",
              "    <tr>\n",
              "      <th>4</th>\n",
              "      <td>Hyundai</td>\n",
              "      <td>Creta</td>\n",
              "      <td>71000.0</td>\n",
              "      <td>First</td>\n",
              "      <td>2019</td>\n",
              "      <td>Diesel</td>\n",
              "      <td>17.010000</td>\n",
              "      <td>Automatic</td>\n",
              "      <td>15.49</td>\n",
              "    </tr>\n",
              "    <tr>\n",
              "      <th>...</th>\n",
              "      <td>...</td>\n",
              "      <td>...</td>\n",
              "      <td>...</td>\n",
              "      <td>...</td>\n",
              "      <td>...</td>\n",
              "      <td>...</td>\n",
              "      <td>...</td>\n",
              "      <td>...</td>\n",
              "      <td>...</td>\n",
              "    </tr>\n",
              "    <tr>\n",
              "      <th>1005</th>\n",
              "      <td>Hyundai</td>\n",
              "      <td>Elite</td>\n",
              "      <td>60902.0</td>\n",
              "      <td>Second</td>\n",
              "      <td>2017</td>\n",
              "      <td>Petrol</td>\n",
              "      <td>43.981525</td>\n",
              "      <td>Automatic</td>\n",
              "      <td>6.90</td>\n",
              "    </tr>\n",
              "    <tr>\n",
              "      <th>1006</th>\n",
              "      <td>Maruti</td>\n",
              "      <td>Suzuki</td>\n",
              "      <td>45169.0</td>\n",
              "      <td>First</td>\n",
              "      <td>2019</td>\n",
              "      <td>Petrol</td>\n",
              "      <td>22.740000</td>\n",
              "      <td>Manual</td>\n",
              "      <td>3.69</td>\n",
              "    </tr>\n",
              "    <tr>\n",
              "      <th>1007</th>\n",
              "      <td>Maruti</td>\n",
              "      <td>Suzuki</td>\n",
              "      <td>43149.0</td>\n",
              "      <td>First</td>\n",
              "      <td>2013</td>\n",
              "      <td>Petrol</td>\n",
              "      <td>15.000000</td>\n",
              "      <td>Automatic</td>\n",
              "      <td>2.83</td>\n",
              "    </tr>\n",
              "    <tr>\n",
              "      <th>1008</th>\n",
              "      <td>Maruti</td>\n",
              "      <td>Suzuki</td>\n",
              "      <td>18099.0</td>\n",
              "      <td>Second</td>\n",
              "      <td>2018</td>\n",
              "      <td>Petrol</td>\n",
              "      <td>23.100000</td>\n",
              "      <td>Automatic</td>\n",
              "      <td>4.83</td>\n",
              "    </tr>\n",
              "    <tr>\n",
              "      <th>1009</th>\n",
              "      <td>Maruti</td>\n",
              "      <td>Suzuki</td>\n",
              "      <td>33166.0</td>\n",
              "      <td>First</td>\n",
              "      <td>2013</td>\n",
              "      <td>Petrol</td>\n",
              "      <td>19.100000</td>\n",
              "      <td>Manual</td>\n",
              "      <td>4.49</td>\n",
              "    </tr>\n",
              "  </tbody>\n",
              "</table>\n",
              "<p>781 rows × 9 columns</p>\n",
              "</div>\n",
              "      <button class=\"colab-df-convert\" onclick=\"convertToInteractive('df-50f0f3ca-d00c-4782-80b6-2d37e8d0a1db')\"\n",
              "              title=\"Convert this dataframe to an interactive table.\"\n",
              "              style=\"display:none;\">\n",
              "        \n",
              "  <svg xmlns=\"http://www.w3.org/2000/svg\" height=\"24px\"viewBox=\"0 0 24 24\"\n",
              "       width=\"24px\">\n",
              "    <path d=\"M0 0h24v24H0V0z\" fill=\"none\"/>\n",
              "    <path d=\"M18.56 5.44l.94 2.06.94-2.06 2.06-.94-2.06-.94-.94-2.06-.94 2.06-2.06.94zm-11 1L8.5 8.5l.94-2.06 2.06-.94-2.06-.94L8.5 2.5l-.94 2.06-2.06.94zm10 10l.94 2.06.94-2.06 2.06-.94-2.06-.94-.94-2.06-.94 2.06-2.06.94z\"/><path d=\"M17.41 7.96l-1.37-1.37c-.4-.4-.92-.59-1.43-.59-.52 0-1.04.2-1.43.59L10.3 9.45l-7.72 7.72c-.78.78-.78 2.05 0 2.83L4 21.41c.39.39.9.59 1.41.59.51 0 1.02-.2 1.41-.59l7.78-7.78 2.81-2.81c.8-.78.8-2.07 0-2.86zM5.41 20L4 18.59l7.72-7.72 1.47 1.35L5.41 20z\"/>\n",
              "  </svg>\n",
              "      </button>\n",
              "      \n",
              "  <style>\n",
              "    .colab-df-container {\n",
              "      display:flex;\n",
              "      flex-wrap:wrap;\n",
              "      gap: 12px;\n",
              "    }\n",
              "\n",
              "    .colab-df-convert {\n",
              "      background-color: #E8F0FE;\n",
              "      border: none;\n",
              "      border-radius: 50%;\n",
              "      cursor: pointer;\n",
              "      display: none;\n",
              "      fill: #1967D2;\n",
              "      height: 32px;\n",
              "      padding: 0 0 0 0;\n",
              "      width: 32px;\n",
              "    }\n",
              "\n",
              "    .colab-df-convert:hover {\n",
              "      background-color: #E2EBFA;\n",
              "      box-shadow: 0px 1px 2px rgba(60, 64, 67, 0.3), 0px 1px 3px 1px rgba(60, 64, 67, 0.15);\n",
              "      fill: #174EA6;\n",
              "    }\n",
              "\n",
              "    [theme=dark] .colab-df-convert {\n",
              "      background-color: #3B4455;\n",
              "      fill: #D2E3FC;\n",
              "    }\n",
              "\n",
              "    [theme=dark] .colab-df-convert:hover {\n",
              "      background-color: #434B5C;\n",
              "      box-shadow: 0px 1px 3px 1px rgba(0, 0, 0, 0.15);\n",
              "      filter: drop-shadow(0px 1px 2px rgba(0, 0, 0, 0.3));\n",
              "      fill: #FFFFFF;\n",
              "    }\n",
              "  </style>\n",
              "\n",
              "      <script>\n",
              "        const buttonEl =\n",
              "          document.querySelector('#df-50f0f3ca-d00c-4782-80b6-2d37e8d0a1db button.colab-df-convert');\n",
              "        buttonEl.style.display =\n",
              "          google.colab.kernel.accessAllowed ? 'block' : 'none';\n",
              "\n",
              "        async function convertToInteractive(key) {\n",
              "          const element = document.querySelector('#df-50f0f3ca-d00c-4782-80b6-2d37e8d0a1db');\n",
              "          const dataTable =\n",
              "            await google.colab.kernel.invokeFunction('convertToInteractive',\n",
              "                                                     [key], {});\n",
              "          if (!dataTable) return;\n",
              "\n",
              "          const docLinkHtml = 'Like what you see? Visit the ' +\n",
              "            '<a target=\"_blank\" href=https://colab.research.google.com/notebooks/data_table.ipynb>data table notebook</a>'\n",
              "            + ' to learn more about interactive tables.';\n",
              "          element.innerHTML = '';\n",
              "          dataTable['output_type'] = 'display_data';\n",
              "          await google.colab.output.renderOutput(dataTable, element);\n",
              "          const docLink = document.createElement('div');\n",
              "          docLink.innerHTML = docLinkHtml;\n",
              "          element.appendChild(docLink);\n",
              "        }\n",
              "      </script>\n",
              "    </div>\n",
              "  </div>\n",
              "  "
            ]
          },
          "metadata": {},
          "execution_count": 36
        }
      ]
    },
    {
      "cell_type": "markdown",
      "source": [
        "3)Removing outliears"
      ],
      "metadata": {
        "id": "DXQ0nAAS4S0W"
      }
    },
    {
      "cell_type": "code",
      "source": [
        "# to check outkier in price column with input 'Btand'col\n",
        "plt.figure(figsize=(10,5))\n",
        "sb.boxplot(data=df,x='Price(lakh)',y='Brand')\n",
        "plt.show()"
      ],
      "metadata": {
        "colab": {
          "base_uri": "https://localhost:8080/",
          "height": 334
        },
        "id": "bZY1Op7y2BRc",
        "outputId": "1a6a8b04-bac7-4aa1-924f-19dced764ede"
      },
      "execution_count": 37,
      "outputs": [
        {
          "output_type": "display_data",
          "data": {
            "text/plain": [
              "<Figure size 720x360 with 1 Axes>"
            ],
            "image/png": "[encoded data removed]"
          },
          "metadata": {
            "needs_background": "light"
          }
        }
      ]
    },
    {
      "cell_type": "code",
      "source": [
        "#here we see many outlier in each brand\n",
        "#we need to remove outlier one by one"
      ],
      "metadata": {
        "id": "wBsH9Q012Hcz"
      },
      "execution_count": 38,
      "outputs": []
    },
    {
      "cell_type": "code",
      "source": [
        "# to shoe thpose records whose make= isuzu and price>200000\n",
        "l=df[(df['Brand']=='Hyundai')&(df['Price(lakh)']>20)].index\n",
        "df.drop(l,inplace=True)"
      ],
      "metadata": {
        "id": "7XWYIOCS2HfJ"
      },
      "execution_count": 39,
      "outputs": []
    },
    {
      "cell_type": "code",
      "source": [
        "l=df[(df['Brand']=='Skoda')&(df['Price(lakh)']>25)].index\n",
        "df.drop(l,inplace=True)"
      ],
      "metadata": {
        "id": "bCAMZAgC2HhK"
      },
      "execution_count": 40,
      "outputs": []
    },
    {
      "cell_type": "code",
      "source": [
        "l=df[(df['Brand']=='Mercedes-Benz')&(df['Price(lakh)']>40)].index\n",
        "df.drop(l,inplace=True)"
      ],
      "metadata": {
        "id": "_KQVa-yz2Hkf"
      },
      "execution_count": 41,
      "outputs": []
    },
    {
      "cell_type": "code",
      "source": [
        "l=df[(df['Brand']=='Mercedes-Benz')&(df['Price(lakh)']<13)].index\n",
        "df.drop(l,inplace=True)"
      ],
      "metadata": {
        "id": "6QBE0PIh2Hmp"
      },
      "execution_count": 42,
      "outputs": []
    },
    {
      "cell_type": "code",
      "source": [
        "l=df[(df['Brand']=='Honda')&(df['Price(lakh)']>13)].index\n",
        "df.drop(l,inplace=True)"
      ],
      "metadata": {
        "id": "SoFIbhV62Wfo"
      },
      "execution_count": 43,
      "outputs": []
    },
    {
      "cell_type": "code",
      "source": [
        "l=df[(df['Brand']=='Maruti')&(df['Price(lakh)']>10)].index\n",
        "df.drop(l,inplace=True)"
      ],
      "metadata": {
        "id": "9uZc91Nd2Whp"
      },
      "execution_count": 44,
      "outputs": []
    },
    {
      "cell_type": "code",
      "source": [
        "l=df[(df['Brand']=='Volkswagen')&(df['Price(lakh)']>9)].index\n",
        "df.drop(l,inplace=True)"
      ],
      "metadata": {
        "id": "T9VJAVl-2WkE"
      },
      "execution_count": 45,
      "outputs": []
    },
    {
      "cell_type": "code",
      "source": [
        "l=df[(df['Brand']=='Toyota')&(df['Price(lakh)']>35)].index\n",
        "df.drop(l,inplace=True)"
      ],
      "metadata": {
        "id": "e6RPP1oa2WnM"
      },
      "execution_count": 46,
      "outputs": []
    },
    {
      "cell_type": "code",
      "source": [
        "l=df[(df['Brand']=='Renault')&(df['Price(lakh)']>10)].index\n",
        "df.drop(l,inplace=True)"
      ],
      "metadata": {
        "id": "ZBsfYnL02WpW"
      },
      "execution_count": 47,
      "outputs": []
    },
    {
      "cell_type": "code",
      "source": [
        "l=df[(df['Brand']=='Ford')&(df['Price(lakh)']>38)].index\n",
        "df.drop(l,inplace=True)"
      ],
      "metadata": {
        "id": "uJR61eyO2Wrc"
      },
      "execution_count": 48,
      "outputs": []
    },
    {
      "cell_type": "code",
      "source": [
        "l=df[(df['Brand']=='Audi')&(df['Price(lakh)']>45)].index\n",
        "df.drop(l,inplace=True)"
      ],
      "metadata": {
        "id": "4CtvOrG72WtF"
      },
      "execution_count": 49,
      "outputs": []
    },
    {
      "cell_type": "code",
      "source": [
        "l=df[(df['Brand']=='Jeep')&(df['Price(lakh)']>20)].index\n",
        "df.drop(l,inplace=True)"
      ],
      "metadata": {
        "id": "Gh4akSA82jqh"
      },
      "execution_count": 50,
      "outputs": []
    },
    {
      "cell_type": "code",
      "source": [
        "l=df[(df['Brand']=='MG')&(df['Price(lakh)']<15)].index\n",
        "df.drop(l,inplace=True)"
      ],
      "metadata": {
        "id": "1Y0FTFrh2jtL"
      },
      "execution_count": 51,
      "outputs": []
    },
    {
      "cell_type": "code",
      "source": [
        "l=df[(df['Brand']=='MG')&(df['Price(lakh)']>15)].index\n",
        "df.drop(l,inplace=True)"
      ],
      "metadata": {
        "id": "b-uVk5u72ju9"
      },
      "execution_count": 52,
      "outputs": []
    },
    {
      "cell_type": "code",
      "source": [
        "\n",
        "plt.figure(figsize=(10,5))\n",
        "sb.boxplot(data=df,x='Price(lakh)',y='Brand')\n",
        "plt.show()"
      ],
      "metadata": {
        "colab": {
          "base_uri": "https://localhost:8080/",
          "height": 334
        },
        "id": "NsNUGPEh2s_n",
        "outputId": "f813cb15-86dc-4845-9556-92db0d580dba"
      },
      "execution_count": 53,
      "outputs": [
        {
          "output_type": "display_data",
          "data": {
            "text/plain": [
              "<Figure size 720x360 with 1 Axes>"
            ],
            "image/png": "[encoded data removed]"
          },
          "metadata": {
            "needs_background": "light"
          }
        }
      ]
    },
    {
      "cell_type": "code",
      "source": [
        "df.dtypes"
      ],
      "metadata": {
        "colab": {
          "base_uri": "https://localhost:8080/"
        },
        "id": "v3UlmNBm3C6K",
        "outputId": "8aaa6c32-01fb-4cf2-f646-b3a84ff26c79"
      },
      "execution_count": 54,
      "outputs": [
        {
          "output_type": "execute_result",
          "data": {
            "text/plain": [
              "Brand            object\n",
              "Model            object\n",
              "km_driven       float64\n",
              "Owner            object\n",
              "Mfg_year          int64\n",
              "Fuel_type        object\n",
              "Mileage         float64\n",
              "Transmission     object\n",
              "Price(lakh)     float64\n",
              "dtype: object"
            ]
          },
          "metadata": {},
          "execution_count": 54
        }
      ]
    },
    {
      "cell_type": "code",
      "source": [
        "sb.boxplot(data=df,x='km_driven')"
      ],
      "metadata": {
        "colab": {
          "base_uri": "https://localhost:8080/",
          "height": 297
        },
        "id": "1djf0aOT3C8U",
        "outputId": "6f802ccd-9892-4f1c-9e37-77a50fba8d37"
      },
      "execution_count": 55,
      "outputs": [
        {
          "output_type": "execute_result",
          "data": {
            "text/plain": [
              "<matplotlib.axes._subplots.AxesSubplot at 0x7ff3de557c40>"
            ]
          },
          "metadata": {},
          "execution_count": 55
        },
        {
          "output_type": "display_data",
          "data": {
            "text/plain": [
              "<Figure size 432x288 with 1 Axes>"
            ],
            "image/png": "[encoded data removed]"
          },
          "metadata": {
            "needs_background": "light"
          }
        }
      ]
    },
    {
      "cell_type": "code",
      "source": [
        "l=df[df['km_driven']>20000].index\n",
        "df.drop(l,inplace=True)"
      ],
      "metadata": {
        "id": "C4hW-ovD3C-W"
      },
      "execution_count": 56,
      "outputs": []
    },
    {
      "cell_type": "code",
      "source": [
        "sb.boxplot(data=df,x='km_driven')"
      ],
      "metadata": {
        "colab": {
          "base_uri": "https://localhost:8080/",
          "height": 297
        },
        "id": "hnOyX7Kn3DBA",
        "outputId": "519f188f-5dc2-4cb4-edda-afa02af08960"
      },
      "execution_count": 57,
      "outputs": [
        {
          "output_type": "execute_result",
          "data": {
            "text/plain": [
              "<matplotlib.axes._subplots.AxesSubplot at 0x7ff3de77eeb0>"
            ]
          },
          "metadata": {},
          "execution_count": 57
        },
        {
          "output_type": "display_data",
          "data": {
            "text/plain": [
              "<Figure size 432x288 with 1 Axes>"
            ],
            "image/png": "[encoded data removed]"
          },
          "metadata": {
            "needs_background": "light"
          }
        }
      ]
    },
    {
      "cell_type": "code",
      "source": [
        "sb.boxplot(data=df,x='Mileage')"
      ],
      "metadata": {
        "colab": {
          "base_uri": "https://localhost:8080/",
          "height": 296
        },
        "id": "1qb_9BdS3DEW",
        "outputId": "c4d39e4e-b3cc-4049-e492-ad8fe3c7d649"
      },
      "execution_count": 58,
      "outputs": [
        {
          "output_type": "execute_result",
          "data": {
            "text/plain": [
              "<matplotlib.axes._subplots.AxesSubplot at 0x7ff3de6de610>"
            ]
          },
          "metadata": {},
          "execution_count": 58
        },
        {
          "output_type": "display_data",
          "data": {
            "text/plain": [
              "<Figure size 432x288 with 1 Axes>"
            ],
            "image/png": "[encoded data removed]"
          },
          "metadata": {
            "needs_background": "light"
          }
        }
      ]
    },
    {
      "cell_type": "code",
      "source": [
        "l=df[df['Mileage']>25].index\n",
        "df.drop(l,inplace=True)"
      ],
      "metadata": {
        "id": "EKB1l0Jj3yPU"
      },
      "execution_count": 59,
      "outputs": []
    },
    {
      "cell_type": "code",
      "source": [
        "l=df[df['Mileage']<12].index\n",
        "df.drop(l,inplace=True)"
      ],
      "metadata": {
        "id": "w2FT7T484DDz"
      },
      "execution_count": 60,
      "outputs": []
    },
    {
      "cell_type": "code",
      "source": [
        "sb.boxplot(data=df,x='Mileage')"
      ],
      "metadata": {
        "colab": {
          "base_uri": "https://localhost:8080/",
          "height": 296
        },
        "id": "m4s7Idn94L2l",
        "outputId": "efb2eb87-85ed-4480-9654-6bc2f3fa8068"
      },
      "execution_count": 61,
      "outputs": [
        {
          "output_type": "execute_result",
          "data": {
            "text/plain": [
              "<matplotlib.axes._subplots.AxesSubplot at 0x7ff3de6434c0>"
            ]
          },
          "metadata": {},
          "execution_count": 61
        },
        {
          "output_type": "display_data",
          "data": {
            "text/plain": [
              "<Figure size 432x288 with 1 Axes>"
            ],
            "image/png": "[encoded data removed]"
          },
          "metadata": {
            "needs_background": "light"
          }
        }
      ]
    },
    {
      "cell_type": "markdown",
      "source": [
        "Finding insights and visualisation"
      ],
      "metadata": {
        "id": "bzzxwxjGwm3D"
      }
    },
    {
      "cell_type": "markdown",
      "source": [
        "1)Brands with high price"
      ],
      "metadata": {
        "id": "PULpkIxuw9o7"
      }
    },
    {
      "cell_type": "code",
      "source": [
        "#  high value brand\n",
        "plt.figure(figsize=(10,10))\n",
        "sb.barplot(data=df,x='Brand',y='Price(lakh)')\n",
        "plt.title('High valued brand on website',fontsize=20)\n",
        "plt.xticks(rotation=90)\n",
        "plt.show()"
      ],
      "metadata": {
        "id": "EbLoZnJzzOrr",
        "colab": {
          "base_uri": "https://localhost:8080/",
          "height": 692
        },
        "outputId": "c429044f-84e9-47fc-d2d1-699ecfd57328"
      },
      "execution_count": 62,
      "outputs": [
        {
          "output_type": "display_data",
          "data": {
            "text/plain": [
              "<Figure size 720x720 with 1 Axes>"
            ],
            "image/png": "[encoded data removed]"
          },
          "metadata": {
            "needs_background": "light"
          }
        }
      ]
    },
    {
      "cell_type": "markdown",
      "source": [
        "2) Types of fuel system "
      ],
      "metadata": {
        "id": "Xgvlck5jxS4O"
      }
    },
    {
      "cell_type": "code",
      "source": [
        "l=df['Fuel_type'].unique()\n",
        "print(l) "
      ],
      "metadata": {
        "colab": {
          "base_uri": "https://localhost:8080/"
        },
        "id": "Tb4Ye2fUIHt9",
        "outputId": "091e1517-d621-4513-8e8c-352cb60eea1f"
      },
      "execution_count": 63,
      "outputs": [
        {
          "output_type": "stream",
          "name": "stdout",
          "text": [
            "['Petrol' 'Diesel']\n"
          ]
        }
      ]
    },
    {
      "cell_type": "code",
      "source": [
        "c=df['Fuel_type'].value_counts()\n",
        "print(c)\n"
      ],
      "metadata": {
        "colab": {
          "base_uri": "https://localhost:8080/"
        },
        "id": "5IL2Rg2BEyk-",
        "outputId": "874947ab-51e7-44d6-901c-f28c1513740a"
      },
      "execution_count": 64,
      "outputs": [
        {
          "output_type": "stream",
          "name": "stdout",
          "text": [
            "Petrol    82\n",
            "Diesel    14\n",
            "Name: Fuel_type, dtype: int64\n"
          ]
        }
      ]
    },
    {
      "cell_type": "code",
      "source": [
        "fig = plt.figure(figsize =(7,7))\n",
        "plt.pie(c[0:4],labels=l[0:4],autopct='%.0f%%')\n",
        "plt.ylabel('Fuel types vise availability',fontsize=20)\n",
        "plt.show()"
      ],
      "metadata": {
        "colab": {
          "base_uri": "https://localhost:8080/",
          "height": 411
        },
        "id": "C_UNIp2S_uhY",
        "outputId": "356b9c39-7c37-4b04-a82c-5a4f7eb6d9ea"
      },
      "execution_count": 65,
      "outputs": [
        {
          "output_type": "display_data",
          "data": {
            "text/plain": [
              "<Figure size 504x504 with 1 Axes>"
            ],
            "image/png": "[encoded data removed]"
          },
          "metadata": {}
        }
      ]
    },
    {
      "cell_type": "markdown",
      "source": [
        "3) Most preferredtransmission type"
      ],
      "metadata": {
        "id": "WleKEFdByKj-"
      }
    },
    {
      "cell_type": "code",
      "source": [
        "fig = plt.figure(figsize =(7,7))\n",
        "df.groupby('Transmission').size().plot(kind='pie',autopct='%.0f%%')\n",
        "plt.ylabel('People choice for Transmision',fontsize=20)\n",
        "plt.show()"
      ],
      "metadata": {
        "colab": {
          "base_uri": "https://localhost:8080/",
          "height": 411
        },
        "id": "X5r3qojtNkUh",
        "outputId": "3b4b990d-a068-4bd0-f1c6-4f602ffd1ef8"
      },
      "execution_count": 66,
      "outputs": [
        {
          "output_type": "display_data",
          "data": {
            "text/plain": [
              "<Figure size 504x504 with 1 Axes>"
            ],
            "image/png": "[encoded data removed]"
          },
          "metadata": {}
        }
      ]
    },
    {
      "cell_type": "markdown",
      "source": [
        "4) Relation between km_driven & Price"
      ],
      "metadata": {
        "id": "oiXh8KQwzqyW"
      }
    },
    {
      "cell_type": "code",
      "source": [
        "fig = plt.figure(figsize =(5,4))\n",
        "sb.scatterplot(data=df,x=df['km_driven'],y=df['Price(lakh)'])\n",
        "plt.title('Relation between km_driven & Price',fontsize=20)\n",
        "plt.show()"
      ],
      "metadata": {
        "colab": {
          "base_uri": "https://localhost:8080/",
          "height": 301
        },
        "id": "LdxGtu47N-rX",
        "outputId": "40b2e4a7-5f9d-42a9-fc0c-abbc6f588092"
      },
      "execution_count": 67,
      "outputs": [
        {
          "output_type": "display_data",
          "data": {
            "text/plain": [
              "<Figure size 360x288 with 1 Axes>"
            ],
            "image/png": "[encoded data removed]"
          },
          "metadata": {
            "needs_background": "light"
          }
        }
      ]
    },
    {
      "cell_type": "markdown",
      "source": [
        "5)Relation between mileage & Price"
      ],
      "metadata": {
        "id": "6ZF7yZRH0ivz"
      }
    },
    {
      "cell_type": "code",
      "source": [
        "fig = plt.figure(figsize =(5,4))\n",
        "sb.scatterplot(data=df,x=df['Mileage'],y=df['Price(lakh)'])\n",
        "plt.title('Relation between mileage & Price',fontsize=20)\n",
        "plt.show()"
      ],
      "metadata": {
        "colab": {
          "base_uri": "https://localhost:8080/",
          "height": 300
        },
        "id": "j3Zj9wKzF9IM",
        "outputId": "470a586b-48a7-41ae-9fa0-870aea1958d8"
      },
      "execution_count": 68,
      "outputs": [
        {
          "output_type": "display_data",
          "data": {
            "text/plain": [
              "<Figure size 360x288 with 1 Axes>"
            ],
            "image/png": "[encoded data removed]"
          },
          "metadata": {
            "needs_background": "light"
          }
        }
      ]
    },
    {
      "cell_type": "markdown",
      "source": [
        "6)Brands with good mileage"
      ],
      "metadata": {
        "id": "cQJQZEAw018Z"
      }
    },
    {
      "cell_type": "code",
      "source": [
        "l=df[df['Mileage']>40].index\n",
        "df.drop(l,inplace=True)"
      ],
      "metadata": {
        "id": "CzEjwFxOxgtB"
      },
      "execution_count": 69,
      "outputs": []
    },
    {
      "cell_type": "code",
      "source": [
        "mileage=[]\n",
        "for item in df['Brand'].unique():\n",
        "  val=df[df['Brand']==item].Mileage.nlargest(1).index[0]\n",
        "  mileage.append(val)\n"
      ],
      "metadata": {
        "id": "YZ8WMMXsH_j-"
      },
      "execution_count": 70,
      "outputs": []
    },
    {
      "cell_type": "code",
      "source": [
        "data=df.loc[mileage]"
      ],
      "metadata": {
        "id": "FqPSCMj6Iu7M"
      },
      "execution_count": 71,
      "outputs": []
    },
    {
      "cell_type": "code",
      "source": [
        "fig = plt.figure(figsize =(10,5))\n",
        "plt.bar(data.Brand,data.Mileage)\n",
        "plt.title('Brands with good mileage',fontsize=20)\n",
        "plt.ylabel('Mileage(km/pl)')\n",
        "plt.xlabel('Brands')\n",
        "plt.xticks(rotation=90)\n",
        "plt.show()"
      ],
      "metadata": {
        "colab": {
          "base_uri": "https://localhost:8080/",
          "height": 420
        },
        "id": "3899rzifK0xG",
        "outputId": "83d63a1e-2a8b-4d05-f165-ccc2341391bb"
      },
      "execution_count": 72,
      "outputs": [
        {
          "output_type": "display_data",
          "data": {
            "text/plain": [
              "<Figure size 720x360 with 1 Axes>"
            ],
            "image/png": "[encoded data removed]"
          },
          "metadata": {
            "needs_background": "light"
          }
        }
      ]
    },
    {
      "cell_type": "code",
      "source": [
        "petrol=df[df['Fuel_type']=='Petrol'].mean()[2]"
      ],
      "metadata": {
        "id": "Je6RFPKwLN_O",
        "colab": {
          "base_uri": "https://localhost:8080/"
        },
        "outputId": "9ff72d78-090a-4a6d-d0ce-2c2d42ef5e6d"
      },
      "execution_count": 85,
      "outputs": [
        {
          "output_type": "stream",
          "name": "stderr",
          "text": [
            "<ipython-input-85-e15bc6f17704>:1: FutureWarning: Dropping of nuisance columns in DataFrame reductions (with 'numeric_only=None') is deprecated; in a future version this will raise TypeError.  Select only valid columns before calling the reduction.\n",
            "  petrol=df[df['Fuel_type']=='Petrol'].mean()[2]\n"
          ]
        }
      ]
    },
    {
      "cell_type": "code",
      "source": [
        "diesel=df[df['Fuel_type']=='Diesel'].mean()[2]\n"
      ],
      "metadata": {
        "colab": {
          "base_uri": "https://localhost:8080/"
        },
        "id": "6Jy8C3lYtEEF",
        "outputId": "2e6d90a2-55b4-404c-d81b-8231580024da"
      },
      "execution_count": 96,
      "outputs": [
        {
          "output_type": "stream",
          "name": "stderr",
          "text": [
            "<ipython-input-96-ec7de06def0e>:1: FutureWarning: Dropping of nuisance columns in DataFrame reductions (with 'numeric_only=None') is deprecated; in a future version this will raise TypeError.  Select only valid columns before calling the reduction.\n",
            "  diesel=df[df['Fuel_type']=='Diesel'].mean()[2]\n"
          ]
        }
      ]
    },
    {
      "cell_type": "code",
      "source": [
        "fuel=['petrol','diesel']\n",
        "avg_mileage=[petrol,diesel]"
      ],
      "metadata": {
        "id": "POfUWy7itP65"
      },
      "execution_count": 97,
      "outputs": []
    },
    {
      "cell_type": "code",
      "source": [
        "plt.bar(fuel,avg_mileage)\n",
        "plt.title('Fuel type with good mileage',fontsize=20)\n",
        "plt.show()"
      ],
      "metadata": {
        "colab": {
          "base_uri": "https://localhost:8080/",
          "height": 286
        },
        "id": "14gzRhnxvKI4",
        "outputId": "424a1e40-c39f-45be-d16f-5e0554bcc80c"
      },
      "execution_count": 101,
      "outputs": [
        {
          "output_type": "display_data",
          "data": {
            "text/plain": [
              "<Figure size 432x288 with 1 Axes>"
            ],
            "image/png": "[encoded data removed]"
          },
          "metadata": {
            "needs_background": "light"
          }
        }
      ]
    },
    {
      "cell_type": "code",
      "source": [],
      "metadata": {
        "id": "M0gARdAovUay"
      },
      "execution_count": null,
      "outputs": []
    }
  ]
}