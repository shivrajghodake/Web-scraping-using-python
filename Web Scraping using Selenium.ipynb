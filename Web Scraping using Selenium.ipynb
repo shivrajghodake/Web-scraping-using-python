{
 "cells": [
  {
   "cell_type": "code",
   "execution_count": 1,
   "metadata": {},
   "outputs": [],
   "source": [
    "#import require libraries\n",
    "from selenium import webdriver\n",
    "import pandas as pd\n",
    "from selenium.webdriver.common.by import By"
   ]
  },
  {
   "cell_type": "code",
   "execution_count": 2,
   "metadata": {},
   "outputs": [],
   "source": [
    "driver=webdriver.Chrome()"
   ]
  },
  {
   "cell_type": "code",
   "execution_count": 83,
   "metadata": {},
   "outputs": [],
   "source": [
    "#generate page link from main website link\n",
    "detail_list=[]\n",
    "page_links=[]\n",
    "main_link='https://www.cartrade.com/buy-used-cars/mumbai/c/p-'\n",
    "for i in range(1,5):\n",
    "  link=main_link+str(i)\n",
    "  page_links.append(link)\n",
    "  for item in page_links:\n",
    "     driver.get(item)\n",
    "     Brands=driver.find_element(by=By.XPATH, value='//h2[@class=\"h2heading truncate\"]').text.split()[1]\n",
    "     Mfg_yr=driver.find_element(by=By.XPATH, value='//h2[@class=\"h2heading truncate\"]').text.split()[0]\n",
    "     Model=driver.find_element(by=By.XPATH, value='//h2[@class=\"h2heading truncate\"]').text.split()[2]\n",
    "     Price=driver.find_element(by=By.XPATH, value='//div[@class=\"cr_prc\"]').text.split()[0].strip('₹')\n",
    "     km_driven=driver.find_element(by=By.XPATH, value='//div[@class=\"info_cr_new\"]').text.split()[0]\n",
    "     Fuel_type=driver.find_element(by=By.XPATH, value='//div[@class=\"info_cr_new\"]').text.split()[3]\n",
    "     dict={\n",
    "     'Brand':Brands,\n",
    "     'Model':Model,\n",
    "     'km_driven':km_driven,\n",
    "     'Mfg_year':Mfg_yr,\n",
    "     'Fuel_type':Fuel_type,\n",
    "     'Price(lakh)':Price\n",
    "    \n",
    "      }\n",
    "  #append dictionary into detail list\n",
    "  detail_list.append(dict)\n",
    "\n",
    " "
   ]
  },
  {
   "cell_type": "code",
   "execution_count": 84,
   "metadata": {},
   "outputs": [
    {
     "name": "stdout",
     "output_type": "stream",
     "text": [
      "[{'Brand': 'FORD', 'Model': 'ENDEAVOUR', 'km_driven': '47,398', 'Mfg_year': '2018', 'Fuel_type': 'Diesel', 'Price(lakh)': '30,50,000'}, {'Brand': 'DATSUN', 'Model': 'REDI-GO', 'km_driven': '1,413', 'Mfg_year': '2019', 'Fuel_type': 'Petrol', 'Price(lakh)': '2,95,000'}, {'Brand': 'HONDA', 'Model': 'CITY', 'km_driven': '66,687', 'Mfg_year': '2015', 'Fuel_type': 'Petrol', 'Price(lakh)': '7,11,000'}, {'Brand': 'HYUNDAI', 'Model': 'CRETA', 'km_driven': '58,570', 'Mfg_year': '2017', 'Fuel_type': 'Petrol', 'Price(lakh)': '10,45,000'}]\n"
     ]
    }
   ],
   "source": [
    "print(detail_list)"
   ]
  },
  {
   "cell_type": "code",
   "execution_count": 85,
   "metadata": {},
   "outputs": [],
   "source": [
    "# import pandas library \n",
    "import pandas as pd\n",
    "df=pd.DataFrame(detail_list)# create dataframe from detail list"
   ]
  },
  {
   "cell_type": "code",
   "execution_count": 86,
   "metadata": {},
   "outputs": [
    {
     "data": {
      "text/html": [
       "<div>\n",
       "<style scoped>\n",
       "    .dataframe tbody tr th:only-of-type {\n",
       "        vertical-align: middle;\n",
       "    }\n",
       "\n",
       "    .dataframe tbody tr th {\n",
       "        vertical-align: top;\n",
       "    }\n",
       "\n",
       "    .dataframe thead th {\n",
       "        text-align: right;\n",
       "    }\n",
       "</style>\n",
       "<table border=\"1\" class=\"dataframe\">\n",
       "  <thead>\n",
       "    <tr style=\"text-align: right;\">\n",
       "      <th></th>\n",
       "      <th>Brand</th>\n",
       "      <th>Model</th>\n",
       "      <th>km_driven</th>\n",
       "      <th>Mfg_year</th>\n",
       "      <th>Fuel_type</th>\n",
       "      <th>Price(lakh)</th>\n",
       "    </tr>\n",
       "  </thead>\n",
       "  <tbody>\n",
       "    <tr>\n",
       "      <th>0</th>\n",
       "      <td>FORD</td>\n",
       "      <td>ENDEAVOUR</td>\n",
       "      <td>47,398</td>\n",
       "      <td>2018</td>\n",
       "      <td>Diesel</td>\n",
       "      <td>30,50,000</td>\n",
       "    </tr>\n",
       "    <tr>\n",
       "      <th>1</th>\n",
       "      <td>DATSUN</td>\n",
       "      <td>REDI-GO</td>\n",
       "      <td>1,413</td>\n",
       "      <td>2019</td>\n",
       "      <td>Petrol</td>\n",
       "      <td>2,95,000</td>\n",
       "    </tr>\n",
       "    <tr>\n",
       "      <th>2</th>\n",
       "      <td>HONDA</td>\n",
       "      <td>CITY</td>\n",
       "      <td>66,687</td>\n",
       "      <td>2015</td>\n",
       "      <td>Petrol</td>\n",
       "      <td>7,11,000</td>\n",
       "    </tr>\n",
       "    <tr>\n",
       "      <th>3</th>\n",
       "      <td>HYUNDAI</td>\n",
       "      <td>CRETA</td>\n",
       "      <td>58,570</td>\n",
       "      <td>2017</td>\n",
       "      <td>Petrol</td>\n",
       "      <td>10,45,000</td>\n",
       "    </tr>\n",
       "  </tbody>\n",
       "</table>\n",
       "</div>"
      ],
      "text/plain": [
       "     Brand      Model km_driven Mfg_year Fuel_type Price(lakh)\n",
       "0     FORD  ENDEAVOUR    47,398     2018    Diesel   30,50,000\n",
       "1   DATSUN    REDI-GO     1,413     2019    Petrol    2,95,000\n",
       "2    HONDA       CITY    66,687     2015    Petrol    7,11,000\n",
       "3  HYUNDAI      CRETA    58,570     2017    Petrol   10,45,000"
      ]
     },
     "execution_count": 86,
     "metadata": {},
     "output_type": "execute_result"
    }
   ],
   "source": [
    "df"
   ]
  },
  {
   "cell_type": "code",
   "execution_count": null,
   "metadata": {},
   "outputs": [],
   "source": []
  },
  {
   "cell_type": "code",
   "execution_count": null,
   "metadata": {},
   "outputs": [],
   "source": []
  },
  {
   "cell_type": "code",
   "execution_count": null,
   "metadata": {},
   "outputs": [],
   "source": []
  },
  {
   "cell_type": "code",
   "execution_count": null,
   "metadata": {},
   "outputs": [],
   "source": []
  },
  {
   "cell_type": "code",
   "execution_count": null,
   "metadata": {},
   "outputs": [],
   "source": []
  },
  {
   "cell_type": "code",
   "execution_count": null,
   "metadata": {},
   "outputs": [],
   "source": []
  },
  {
   "cell_type": "code",
   "execution_count": null,
   "metadata": {},
   "outputs": [],
   "source": []
  },
  {
   "cell_type": "code",
   "execution_count": null,
   "metadata": {},
   "outputs": [],
   "source": [
    "'''car_links=[]\n",
    "for item in page_links:  \n",
    "    driver.get(item)\n",
    "    car_link=driver.find_elements(by=By.XPATH,value='//h2/a')\n",
    "    for item in car_link:\n",
    "        x=item.get_attribute('href')\n",
    "        car_links.append(x)\n",
    "        #print(car_links)\n",
    "        for item in car_links:\n",
    "            driver.get(item)\n",
    "            details=driver.find_element(by=By.XPATH, value='//tr/td')\n",
    "            #print(details)\n",
    "            y=[]\n",
    "            for i in details:\n",
    "                x=(i.text.split())\n",
    "                y.append(x)\n",
    "                print(y)  '''"
   ]
  },
  {
   "cell_type": "code",
   "execution_count": null,
   "metadata": {},
   "outputs": [],
   "source": [
    "#generate page link from main website link\n",
    "detail_list=[]\n",
    "page_links=[]\n",
    "main_link='https://www.cartrade.com/buy-used-cars/mumbai/c/p-'\n",
    "for i in range(1,2):\n",
    "  link=main_link+str(i)\n",
    "  page_links.append(link)\n",
    "  for item in page_links:\n",
    "     driver.get(item)\n",
    "     brands=driver.find_element(by=By.XPATH, value='//h2[@class=\"h2heading truncate\"]').text\n",
    "     brand=[]\n",
    "     for i in brands:\n",
    "        x=i.text.split()[1]\n",
    "        brand.append(x)\n",
    "     Mfg_yr=driver.find_elements(by=By.XPATH, value='//h2[@class=\"h2heading truncate\"]')\n",
    "     mfg_yr=[]\n",
    "     for i in Mfg_yr:\n",
    "        x=i.text.split()[0]\n",
    "        mfg_yr.append(str(x))\n",
    "     car_model=driver.find_elements(by=By.XPATH, value='//h2[@class=\"h2heading truncate\"]')\n",
    "     model=[]\n",
    "     for i in car_model:\n",
    "        x=i.text.split()[2]\n",
    "        model.append(str(x))\n",
    "     Price=driver.find_elements(by=By.XPATH, value='//div[@class=\"cr_prc\"]')\n",
    "     price=[]\n",
    "     for i in Price:\n",
    "        x=i.text.split()[0].strip('₹')\n",
    "        price.append(str(x))\n",
    "     km=driver.find_elements(by=By.XPATH, value='//div[@class=\"info_cr_new\"]')\n",
    "     km_driven=[]\n",
    "     for i in km:\n",
    "        x=i.text.split()[0]\n",
    "        km_driven.append(str(x))\n",
    "     fuel=driver.find_elements(by=By.XPATH, value='//div[@class=\"info_cr_new\"]')\n",
    "     fuel_type=[]\n",
    "     for i in fuel:\n",
    "        x=i.text.split()[3]\n",
    "        fuel_type.append(str(x))\n",
    "     dict={\n",
    "     'Brand':brands\n",
    "     'Model':model,\n",
    "     'km_driven':km_driven,\n",
    "     'Mfg_year':mfg_yr,\n",
    "     'Fuel_type':fuel_type,\n",
    "     'Price(lakh)':price\n",
    "    \n",
    "      }\n",
    "  #append dictionary into detail list\n",
    "  detail_list.append(dict)"
   ]
  },
  {
   "cell_type": "code",
   "execution_count": null,
   "metadata": {},
   "outputs": [],
   "source": []
  },
  {
   "cell_type": "code",
   "execution_count": null,
   "metadata": {},
   "outputs": [],
   "source": []
  },
  {
   "cell_type": "code",
   "execution_count": null,
   "metadata": {},
   "outputs": [],
   "source": []
  }
 ],
 "metadata": {
  "kernelspec": {
   "display_name": "Python 3",
   "language": "python",
   "name": "python3"
  },
  "language_info": {
   "codemirror_mode": {
    "name": "ipython",
    "version": 3
   },
   "file_extension": ".py",
   "mimetype": "text/x-python",
   "name": "python",
   "nbconvert_exporter": "python",
   "pygments_lexer": "ipython3",
   "version": "3.8.5"
  }
 },
 "nbformat": 4,
 "nbformat_minor": 4
}
